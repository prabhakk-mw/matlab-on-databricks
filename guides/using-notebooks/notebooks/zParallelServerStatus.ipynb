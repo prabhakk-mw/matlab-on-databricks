{
 "cells": [
  {
   "cell_type": "code",
   "execution_count": 0,
   "metadata": {
    "application/vnd.databricks.v1+cell": {
     "cellMetadata": {
      "byteLimit": 2048000,
      "rowLimit": 10000
     },
     "inputWidgets": {},
     "nuid": "933a1cfd-4683-4a08-8551-5e85aa9b2eb0",
     "showTitle": false,
     "tableResultSettingsMap": {},
     "title": ""
    }
   },
   "outputs": [
    {
     "output_type": "stream",
     "name": "stdout",
     "output_type": "stream",
     "text": [
      "Job manager lookup process:\n     Status                        Running\n\nJob manager:\n     Name                          default_jobmanager\n     Running on host               10.139.64.6\n     Number of workers             4\n     Status                        running\n     Supported releases            R2024b\n\nWorker:\n     Name                          worker\n     Running on host               10.139.64.6\n     Status                        Idle\n     Job manager                   default_jobmanager\n     Connection with job manager   Connected\n\nSummary:\nThe mjs service on 10.139.64.6 manages the following processes:\n     Job manager lookup processes  1\n     Job managers                  1\n     Workers                       1\n     Worker groups                 1\n\n\n"
     ]
    }
   ],
   "source": [
    "%sh nodestatus"
   ]
  }
 ],
 "metadata": {
  "application/vnd.databricks.v1+notebook": {
   "computePreferences": null,
   "dashboards": [],
   "environmentMetadata": {
    "base_environment": "",
    "environment_version": "2"
   },
   "language": "python",
   "notebookMetadata": {
    "mostRecentlyExecutedCommandWithImplicitDF": {
     "commandId": 2750427081407249,
     "dataframes": [
      "_sqldf"
     ]
    },
    "pythonIndentUnit": 4
   },
   "notebookName": "zParallelServerStatus",
   "widgets": {}
  },
  "language_info": {
   "name": "python"
  }
 },
 "nbformat": 4,
 "nbformat_minor": 0
}