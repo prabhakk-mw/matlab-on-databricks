{
 "cells": [
  {
   "cell_type": "code",
   "execution_count": 0,
   "metadata": {
    "application/vnd.databricks.v1+cell": {
     "cellMetadata": {
      "byteLimit": 2048000,
      "rowLimit": 10000
     },
     "collapsed": true,
     "inputWidgets": {},
     "nuid": "86506f49-cad2-4535-9cd0-690cb2306557",
     "showTitle": false,
     "tableResultSettingsMap": {},
     "title": ""
    }
   },
   "outputs": [
    {
     "output_type": "stream",
     "name": "stdout",
     "output_type": "stream",
     "text": [
      "Starting matlab-proxy-app on port 3000\n"
     ]
    },
    {
     "output_type": "display_data",
     "data": {
      "text/html": [
       "<h2 style='color:green;'>Starting matlab-proxy-app on port 3000</h2><h2 style='color:blue;'>Found 1 matlab-proxy-app processes with process ids:</h2><h3 style='color:blue;'>3777</h3>"
      ],
      "text/plain": [
       "<IPython.core.display.HTML object>"
      ]
     },
     "metadata": {},
     "output_type": "display_data"
    },
    {
     "output_type": "stream",
     "name": "stderr",
     "output_type": "stream",
     "text": [
      "INFO:MATLABProxyApp:Setting no_proxy to: 0.0.0.0,localhost,127.0.0.1\nINFO:MATLABProxyApp:Found MATLAB executable at: /usr/local/bin/matlab\nINFO:MATLABProxyApp:Using 600 seconds as the default timeout value\nINFO:MATLABProxyApp:\n============================\nAccess MATLAB at:\nhttp://localhost:3000/matlab\n============================\n\n"
     ]
    }
   ],
   "source": [
    "%run /Workspace/Users/prabhakk@mathworks.com/Notebooks/Start_MATLAB\n"
   ]
  },
  {
   "cell_type": "code",
   "execution_count": 0,
   "metadata": {
    "application/vnd.databricks.v1+cell": {
     "cellMetadata": {
      "byteLimit": 2048000,
      "rowLimit": 10000
     },
     "inputWidgets": {},
     "nuid": "e3f51acb-9e31-44db-bc47-beb4e3a87571",
     "showTitle": false,
     "tableResultSettingsMap": {},
     "title": ""
    }
   },
   "outputs": [],
   "source": [
    "%run /Workspace/Users/prabhakk@mathworks.com/Notebooks/List_MATLABs\n",
    "\n"
   ]
  },
  {
   "cell_type": "code",
   "execution_count": 0,
   "metadata": {
    "application/vnd.databricks.v1+cell": {
     "cellMetadata": {
      "byteLimit": 2048000,
      "rowLimit": 10000
     },
     "inputWidgets": {},
     "nuid": "2e30edfe-b4f7-4877-968e-618c74e6b7a8",
     "showTitle": false,
     "tableResultSettingsMap": {},
     "title": ""
    }
   },
   "outputs": [
    {
     "output_type": "display_data",
     "data": {
      "text/html": [
       "<h3 style='color:blue;'>Found the 1 matlab_proxy server(s) running on cluster: <style='color:red;'>'MATLAB Parallel Server Cluster'</h3><h2 style='color:green;'>Click on the link to access MATLAB:</h2><ul><h3><li><a href='https://adb-4254937818061770.10.azuredatabricks.net/driver-proxy/o/4254937818061770/0311-044942-7ftr94hf/3000/matlab/index.html' target='_blank'>1. MATLAB running on Port 3000</a></h3></li></ul>"
      ],
      "text/plain": [
       "<IPython.core.display.HTML object>"
      ]
     },
     "metadata": {},
     "output_type": "display_data"
    }
   ],
   "source": [
    "%run ./Stop_MATLABs"
   ]
  },
  {
   "cell_type": "code",
   "execution_count": 0,
   "metadata": {
    "application/vnd.databricks.v1+cell": {
     "cellMetadata": {
      "byteLimit": 2048000,
      "rowLimit": 10000
     },
     "inputWidgets": {},
     "nuid": "6cf25fe1-97d3-4b02-9b1f-a7f66655ae53",
     "showTitle": false,
     "tableResultSettingsMap": {},
     "title": ""
    }
   },
   "outputs": [
    {
     "output_type": "display_data",
     "data": {
      "text/html": [
       "<div class = \"ansiout\"><b>dbutils.widgets</b> provides utilities for working with notebook widgets. You can create\n",
       "different types of widgets and get their bound value.\n",
       "\n",
       "For more info about a method, use <b>dbutils.widgets.help(\"methodName\")</b>.\n",
       "    <h3></h3><b>combobox(name: String, defaultValue: String, choices: Seq, label: String): void</b> -> Creates a combobox input widget with a given name, default value and choices<br /><b>dropdown(name: String, defaultValue: String, choices: Seq, label: String): void</b> -> Creates a dropdown input widget a with given name, default value and choices<br /><b>get(name: String): String</b> -> Retrieves current value of an input widget<br /><b>getAll: Map</b> -> Retrieves a mapping of all current values of the input widgets<br /><b>getArgument(name: String, optional: String): String</b> -> (DEPRECATED) Equivalent to get<br /><b>multiselect(name: String, defaultValue: String, choices: Seq, label: String): void</b> -> Creates a multiselect input widget with a given name, default value and choices<br /><b>remove(name: String): void</b> -> Removes an input widget from the notebook<br /><b>removeAll: void</b> -> Removes all widgets in the notebook<br /><b>text(name: String, defaultValue: String, label: String): void</b> -> Creates a text input widget with a given name and default value<br /><br /></div>"
      ]
     },
     "metadata": {},
     "output_type": "display_data"
    }
   ],
   "source": [
    "# dbutils.notebook.run(\"List MATLABs\", 60)\n",
    "dbutils.widgets.help()"
   ]
  },
  {
   "cell_type": "code",
   "execution_count": 0,
   "metadata": {
    "application/vnd.databricks.v1+cell": {
     "cellMetadata": {
      "byteLimit": 2048000,
      "rowLimit": 10000
     },
     "inputWidgets": {},
     "nuid": "70539807-5964-4fff-af30-b3910bb23864",
     "showTitle": false,
     "tableResultSettingsMap": {},
     "title": ""
    }
   },
   "outputs": [
    {
     "output_type": "stream",
     "name": "stdout",
     "output_type": "stream",
     "text": [
      "Job manager lookup process:\n     Status                        Running\n\nJob manager:\n     Name                          default_jobmanager\n     Running on host               10.139.64.6\n     Number of workers             16\n     Status                        running\n     Supported releases            R2024b\n\nWorker:\n     Name                          worker01\n     Running on host               10.139.64.6\n     Status                        Idle\n     Job manager                   default_jobmanager\n     Connection with job manager   Connected\n\nWorker:\n     Name                          worker02\n     Running on host               10.139.64.6\n     Status                        Idle\n     Job manager                   default_jobmanager\n     Connection with job manager   Connected\n\nWorker:\n     Name                          worker03\n     Running on host               10.139.64.6\n     Status                        Idle\n     Job manager                   default_jobmanager\n     Connection with job manager   Connected\n\nWorker:\n     Name                          worker04\n     Running on host               10.139.64.6\n     Status                        Idle\n     Job manager                   default_jobmanager\n     Connection with job manager   Connected\n\nSummary:\nThe mjs service on 10.139.64.6 manages the following processes:\n     Job manager lookup processes  1\n     Job managers                  1\n     Workers                       4\n     Worker groups                 1\n\n\n"
     ]
    }
   ],
   "source": [
    "%sh /opt/matlab/R2024b/toolbox/parallel/bin/n"
   ]
  },
  {
   "cell_type": "code",
   "execution_count": 0,
   "metadata": {
    "application/vnd.databricks.v1+cell": {
     "cellMetadata": {
      "byteLimit": 2048000,
      "rowLimit": 10000
     },
     "inputWidgets": {},
     "nuid": "89d83a8b-65f1-4e6d-b103-9ef996e4bdb2",
     "showTitle": false,
     "tableResultSettingsMap": {},
     "title": ""
    }
   },
   "outputs": [
    {
     "output_type": "stream",
     "name": "stdout",
     "output_type": "stream",
     "text": [
      "Reading package lists...\nBuilding dependency tree...\nReading state information...\nThe following additional packages will be installed:\n  netcat-openbsd\nThe following NEW packages will be installed:\n  netcat netcat-openbsd\n0 upgraded, 2 newly installed, 0 to remove and 56 not upgraded.\nNeed to get 41.4 kB of archives.\nAfter this operation, 126 kB of additional disk space will be used.\nGet:1 http://archive.ubuntu.com/ubuntu jammy/main amd64 netcat-openbsd amd64 1.218-4ubuntu1 [39.4 kB]\nGet:2 http://archive.ubuntu.com/ubuntu jammy/universe amd64 netcat all 1.218-4ubuntu1 [2044 B]\n"
     ]
    },
    {
     "output_type": "stream",
     "name": "stderr",
     "output_type": "stream",
     "text": [
      "debconf: delaying package configuration, since apt-utils is not installed\n"
     ]
    },
    {
     "output_type": "stream",
     "name": "stdout",
     "output_type": "stream",
     "text": [
      "Fetched 41.4 kB in 2s (16.7 kB/s)\nSelecting previously unselected package netcat-openbsd.\r\n(Reading database ... \r(Reading database ... 5%\r(Reading database ... 10%\r(Reading database ... 15%\r(Reading database ... 20%\r(Reading database ... 25%\r(Reading database ... 30%\r(Reading database ... 35%\r(Reading database ... 40%\r(Reading database ... 45%\r(Reading database ... 50%\r(Reading database ... 55%\r(Reading database ... 60%\r(Reading database ... 65%\r(Reading database ... 70%\r(Reading database ... 75%\r(Reading database ... 80%\r(Reading database ... 85%\r(Reading database ... 90%\r(Reading database ... 95%\r(Reading database ... 100%\r(Reading database ... 49494 files and directories currently installed.)\r\nPreparing to unpack .../netcat-openbsd_1.218-4ubuntu1_amd64.deb ...\r\nUnpacking netcat-openbsd (1.218-4ubuntu1) ...\r\nSelecting previously unselected package netcat.\r\nPreparing to unpack .../netcat_1.218-4ubuntu1_all.deb ...\r\nUnpacking netcat (1.218-4ubuntu1) ...\r\nSetting up netcat-openbsd (1.218-4ubuntu1) ...\r\nupdate-alternatives: using /bin/nc.openbsd to provide /bin/nc (nc) in auto mode\r\nupdate-alternatives: warning: skip creation of /usr/share/man/man1/nc.1.gz because associated file /usr/share/man/man1/nc_openbsd.1.gz (of link group nc) doesn't exist\r\nupdate-alternatives: warning: skip creation of /usr/share/man/man1/netcat.1.gz because associated file /usr/share/man/man1/nc_openbsd.1.gz (of link group nc) doesn't exist\r\nSetting up netcat (1.218-4ubuntu1) ...\r\n"
     ]
    }
   ],
   "source": [
    "%sh apt-get install netcat -y\n"
   ]
  },
  {
   "cell_type": "code",
   "execution_count": 0,
   "metadata": {
    "application/vnd.databricks.v1+cell": {
     "cellMetadata": {
      "byteLimit": 2048000,
      "rowLimit": 10000
     },
     "inputWidgets": {},
     "nuid": "cfa72924-e6b3-44bf-be49-3db57c480f48",
     "showTitle": false,
     "tableResultSettingsMap": {},
     "title": ""
    }
   },
   "outputs": [
    {
     "output_type": "stream",
     "name": "stdout",
     "output_type": "stream",
     "text": [
      "PING 10.139.64.8 (10.139.64.8) 56(84) bytes of data.\n64 bytes from 10.139.64.8: icmp_seq=1 ttl=62 time=1.14 ms\n\n--- 10.139.64.8 ping statistics ---\n1 packets transmitted, 1 received, 0% packet loss, time 0ms\nrtt min/avg/max/mdev = 1.141/1.141/1.141/0.000 ms\n"
     ]
    }
   ],
   "source": [
    "%sh ping 10.139.64.8  -c 1"
   ]
  },
  {
   "cell_type": "code",
   "execution_count": 0,
   "metadata": {
    "application/vnd.databricks.v1+cell": {
     "cellMetadata": {
      "byteLimit": 2048000,
      "rowLimit": 10000
     },
     "inputWidgets": {},
     "nuid": "76853a37-5ae9-48e3-a029-095763626736",
     "showTitle": false,
     "tableResultSettingsMap": {},
     "title": ""
    }
   },
   "outputs": [],
   "source": [
    "%sh "
   ]
  }
 ],
 "metadata": {
  "application/vnd.databricks.v1+notebook": {
   "computePreferences": null,
   "dashboards": [],
   "environmentMetadata": {
    "base_environment": "",
    "environment_version": "2"
   },
   "language": "python",
   "notebookMetadata": {
    "mostRecentlyExecutedCommandWithImplicitDF": {
     "commandId": 2750427081407236,
     "dataframes": [
      "_sqldf"
     ]
    },
    "pythonIndentUnit": 4
   },
   "notebookName": "Control Panel",
   "widgets": {}
  },
  "language_info": {
   "name": "python"
  }
 },
 "nbformat": 4,
 "nbformat_minor": 0
}