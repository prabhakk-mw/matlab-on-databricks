{
 "cells": [
  {
   "cell_type": "code",
   "execution_count": 0,
   "metadata": {
    "application/vnd.databricks.v1+cell": {
     "cellMetadata": {
      "byteLimit": 2048000,
      "rowLimit": 10000
     },
     "inputWidgets": {},
     "nuid": "e2833b91-4f65-4160-a675-526c183190ac",
     "showTitle": false,
     "tableResultSettingsMap": {},
     "title": ""
    }
   },
   "outputs": [
    {
     "output_type": "stream",
     "name": "stdout",
     "output_type": "stream",
     "text": [
      "Stopping MATLAB Server: 1925\nAll processes have terminated successfully!\n"
     ]
    }
   ],
   "source": [
    "# !ps -aux | grep matlab-proxy-app\n",
    "\n",
    "import psutil\n",
    "import os\n",
    "import time\n",
    "\n",
    "def find_matlab_proxy_app_processes():\n",
    "    processes = []\n",
    "    for proc in psutil.process_iter(['pid', 'name', 'cmdline']):\n",
    "        for process in proc.info['cmdline']:\n",
    "            if 'matlab-proxy-app' in process:\n",
    "                processes.append(proc.info)\n",
    "    return processes\n",
    "\n",
    "matlab_proxy_app_processes = find_matlab_proxy_app_processes()\n",
    "\n",
    "for mp_process in matlab_proxy_app_processes:\n",
    "    print(f\"Stopping MATLAB Server: {mp_process['pid']}\")\n",
    "    os.kill(mp_process['pid'], 9)  # 15== SIGTERM, 9 == SIGKILL\n",
    "\n",
    "# Wait for some time for the processes to terminate.\n",
    "time.sleep(5)\n",
    "\n",
    "# Verify that all the MATLAB Processes have terminated.\n",
    "matlab_proxy_app_processes = find_matlab_proxy_app_processes()\n",
    "for mp_process in matlab_proxy_app_processes:\n",
    "    print(f\"Still waiting for: {mp_process['pid']}\")\n",
    "if len(matlab_proxy_app_processes) == 0:\n",
    "    print('All processes have terminated successfully!')"
   ]
  }
 ],
 "metadata": {
  "application/vnd.databricks.v1+notebook": {
   "computePreferences": null,
   "dashboards": [],
   "environmentMetadata": {
    "base_environment": "",
    "environment_version": "2"
   },
   "language": "python",
   "notebookMetadata": {
    "pythonIndentUnit": 4
   },
   "notebookName": "Stop_MATLABs",
   "widgets": {}
  },
  "language_info": {
   "name": "python"
  }
 },
 "nbformat": 4,
 "nbformat_minor": 0
}