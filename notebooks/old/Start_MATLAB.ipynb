{
 "cells": [
  {
   "cell_type": "code",
   "execution_count": null,
   "id": "356e1445",
   "metadata": {},
   "outputs": [],
   "source": [
    "import os\n",
    "import subprocess\n",
    "import psutil\n",
    "import time\n",
    "from IPython.display import display, HTML\n",
    "\n",
    "def find_matlab_proxy_app_processes():\n",
    "    processes = []\n",
    "    for proc in psutil.process_iter(['pid', 'name', 'cmdline']):\n",
    "        for process in proc.info['cmdline']:\n",
    "            if 'matlab-proxy-app' in process:\n",
    "                processes.append(proc.info)\n",
    "    return processes\n",
    "\n",
    "def find_next_open_port(\n",
    "    *, host=\"0.0.0.0\", start_port: int = 3000, end_port: int = 9999\n",
    "):\n",
    "    import socket\n",
    "\n",
    "    for port in range(start_port, end_port + 1):\n",
    "        sock = socket.socket(socket.AF_INET, socket.SOCK_STREAM)\n",
    "        sock.settimeout(1)  # Set a timeout for the connection attempt\n",
    "        result = sock.connect_ex((host, port))\n",
    "        if result != 0:  # 0 means the port is open\n",
    "            sock.close()\n",
    "            return port\n",
    "\n",
    "    return None\n",
    "\n",
    "port = find_next_open_port()\n",
    "\n",
    "my_env = os.environ\n",
    "my_env[\"MWI_APP_PORT\"] = str(port)\n",
    "\n",
    "start_msg = f\"Starting matlab-proxy-app on port {str(port)}\"\n",
    "print(start_msg)\n",
    "r = subprocess.Popen([\"matlab-proxy-app\"], env=my_env)\n",
    "\n",
    "html_content = f\"<h2 style='color:green;'>{start_msg}</h2>\"\n",
    "\n",
    "matlab_proxy_app_processes = find_matlab_proxy_app_processes()\n",
    "html_content += f\"<h2 style='color:blue;'>Found {len(matlab_proxy_app_processes)} matlab-proxy-app processes with process ids:</h2>\"\n",
    "for mp_process in matlab_proxy_app_processes:\n",
    "    html_content += f\"<h3 style='color:blue;'>{mp_process['pid']}</h3>\"\n",
    "\n",
    "display(HTML(html_content))\n"
   ]
  }
 ],
 "metadata": {
  "language_info": {
   "name": "python"
  }
 },
 "nbformat": 4,
 "nbformat_minor": 5
}
