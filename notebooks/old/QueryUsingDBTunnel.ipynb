{
 "cells": [
  {
   "cell_type": "markdown",
   "metadata": {
    "application/vnd.databricks.v1+cell": {
     "cellMetadata": {},
     "inputWidgets": {},
     "nuid": "e83f9cc8-fb3a-4ce4-8647-34f09a14d7e1",
     "showTitle": false,
     "tableResultSettingsMap": {},
     "title": ""
    }
   },
   "source": [
    "Get Cluster Id information by Clicking on the compute node you've spawned and click on the Hamburger symbol under/next to the name, and Click on \"View JSON\"\n",
    "Note the \"cluster-id\"\n",
    "\n",
    "The ORG ID is part of the URL you are viewing this notebook on.\n",
    "For example:\n",
    "4254937818061770 is the org-id for: \n",
    "https://adb-4254937818061770.10.azuredatabricks.net...\n",
    "\n",
    "The Driver Proxy URL is\n",
    "\n",
    "\n",
    "\n",
    "https://adb-dp-4254937818061770.10.azuredatabricks.net/driver-proxy/o/4254937818061770/{CLUSTER_ID}/{RELATIVE_URL}/{PORT}/index.html\n",
    "\n",
    "For example, an app running on port 8888 with no base url can be access through this pattern:\n",
    "\n",
    "https://adb-dp-4254937818061770.10.azuredatabricks.net/driver-proxy/o/4254937818061770/0127-104937-eqhyawq8/8888/index.html\n"
   ]
  },
  {
   "cell_type": "code",
   "execution_count": 0,
   "metadata": {
    "application/vnd.databricks.v1+cell": {
     "cellMetadata": {
      "byteLimit": 2048000,
      "rowLimit": 10000
     },
     "inputWidgets": {},
     "nuid": "fd473a90-aef6-4062-b99a-1578188ceb55",
     "showTitle": false,
     "tableResultSettingsMap": {},
     "title": ""
    }
   },
   "outputs": [
    {
     "output_type": "stream",
     "name": "stderr",
     "output_type": "stream",
     "text": [
      "\n============================\nYour running servers are:\n============================\n\nNo MATLAB-PROXY Servers are currently running.\n============================\nThank you.\n============================\n\n"
     ]
    }
   ],
   "source": [
    "%sh matlab-proxy-app-list-servers\n",
    "\n"
   ]
  },
  {
   "cell_type": "code",
   "execution_count": 0,
   "metadata": {
    "application/vnd.databricks.v1+cell": {
     "cellMetadata": {
      "byteLimit": 2048000,
      "rowLimit": 10000
     },
     "inputWidgets": {},
     "nuid": "a3f805b6-7310-4b17-a812-99d3dbb2460e",
     "showTitle": false,
     "tableResultSettingsMap": {},
     "title": ""
    }
   },
   "outputs": [
    {
     "output_type": "stream",
     "name": "stderr",
     "output_type": "stream",
     "text": [
      "INFO:MATLABProxyApp:Setting no_proxy to: 0.0.0.0,localhost,127.0.0.1\nINFO:MATLABProxyApp:Found MATLAB executable at: /usr/local/bin/matlab\nINFO:MATLABProxyApp:Using 600 seconds as the default timeout value\nINFO:MATLABProxyApp:\n============================\nAccess MATLAB at:\nhttp://localhost:8888/matlab\n============================\n\n"
     ]
    }
   ],
   "source": [
    "%sh nohup matlab-proxy-app &"
   ]
  },
  {
   "cell_type": "code",
   "execution_count": 0,
   "metadata": {
    "application/vnd.databricks.v1+cell": {
     "cellMetadata": {
      "byteLimit": 2048000,
      "rowLimit": 10000
     },
     "inputWidgets": {},
     "nuid": "4acb87fd-d4cf-4692-90ba-15403a30cc39",
     "showTitle": false,
     "tableResultSettingsMap": {},
     "title": ""
    }
   },
   "outputs": [
    {
     "output_type": "display_data",
     "data": {
      "application/vnd.databricks.v1+direct_to_webterminal": {}
     },
     "metadata": {},
     "output_type": "display_data"
    },
    {
     "output_type": "stream",
     "name": "stdout",
     "output_type": "stream",
     "text": [
      "root         265  0.0  0.0   8912  4536 ?        S    07:16   0:00 sudo -u matlab env MWI_CUSTOM_HTTP_HEADERS={\"Content-Security-Policy\": \"frame-ancestors *\"} MWI_BASE_URL=/ MWI_ENABLE_TOKEN_AUTH=False matlab-proxy-app\nmatlab       268  0.1  0.2  42668 32240 ?        S    07:16   0:05 /usr/bin/python3 /usr/local/bin/matlab-proxy-app\nroot        8948  0.0  0.0   4040  2156 ?        S    08:15   0:00 grep -i matlab-proxy-app\n"
     ]
    }
   ],
   "source": [
    "%sh ps -aux -ww | grep -i matlab-proxy-app\n",
    "\n"
   ]
  },
  {
   "cell_type": "code",
   "execution_count": 0,
   "metadata": {
    "application/vnd.databricks.v1+cell": {
     "cellMetadata": {
      "byteLimit": 2048000,
      "rowLimit": 10000
     },
     "inputWidgets": {},
     "nuid": "40470989-af50-46f1-a517-c4db94b1fab1",
     "showTitle": false,
     "tableResultSettingsMap": {},
     "title": ""
    }
   },
   "outputs": [
    {
     "output_type": "stream",
     "name": "stderr",
     "output_type": "stream",
     "text": [
      "\n============================\nYour running servers are:\n============================\n\n1.  http://0.0.0.0:51183\n\n============================\nThank you.\n============================\n\n"
     ]
    }
   ],
   "source": [
    "%sh sudo -u matlab matlab-proxy-app-list-servers"
   ]
  },
  {
   "cell_type": "code",
   "execution_count": 0,
   "metadata": {
    "application/vnd.databricks.v1+cell": {
     "cellMetadata": {
      "byteLimit": 2048000,
      "rowLimit": 10000
     },
     "inputWidgets": {},
     "nuid": "6c337e96-20fc-46ab-b7d9-eabdc94ffc7a",
     "showTitle": false,
     "tableResultSettingsMap": {},
     "title": ""
    }
   },
   "outputs": [
    {
     "output_type": "stream",
     "name": "stderr",
     "output_type": "stream",
     "text": [
      "INFO:MATLABProxyApp:Setting no_proxy to: 0.0.0.0,localhost,127.0.0.1\nINFO:MATLABProxyApp:Found MATLAB executable at: /usr/local/bin/matlab\nINFO:MATLABProxyApp:MATLAB root path: /opt/matlab/R2024b exists, continuing to verify its validity...\nINFO:MATLABProxyApp:Using 600 seconds as the default timeout value\nINFO:MATLABProxyApp:\n============================\nAccess MATLAB at:\nhttp://localhost:8888\n============================\n\nINFO:MATLABProxyApp:Stopped (any running) MATLAB process.\nINFO:MATLABProxyApp:Using 600 seconds as the default timeout value\nINFO:MATLABProxyApp:Using the display number supplied by Xvfb process':0' for launching MATLAB\n"
     ]
    },
    {
     "output_type": "stream",
     "name": "stdout",
     "output_type": "stream",
     "text": [
      "MATLAB is selecting SOFTWARE rendering.\n\u001B[?1h\u001B=\n                            < M A T L A B (R) >\n                  Copyright 1984-2024 The MathWorks, Inc.\n             R2024b Update 1 (24.2.0.2740171) 64-bit (glnxa64)\n                             September 20, 2024\n\n \nTo get started, type doc.\nFor product information, visit www.mathworks.com.\n \n[\bWarning: OpenGL Startup options will be removed in a future release.]\b \n <strong>figure</strong> - Create figure window\n    This MATLAB function creates a new figure window using default property\n    values.\n\n    Syntax\n      <strong>figure</strong>\n      <strong>figure</strong>(Name,Value)\n      f = <strong>figure</strong>(___)\n\n      <strong>figure</strong>(f)\n      <strong>figure</strong>(n)\n\n    Input Arguments\n      <a href=\"matlab:web /opt/matlab/R2024b/help/matlab/ref/figure.html#buich1u-1-f\">f</a> - Target figure\n        Figure object\n      <a href=\"matlab:web /opt/matlab/R2024b/help/matlab/ref/figure.html#buich1u-1-n\">n</a> - Target figure number\n        scalar integer value\n\n    Name-Value Arguments\n      <a href=\"matlab:web /opt/matlab/R2024b/help/matlab/ref/figure.html#buich1u-1_sep_shared-Name\">Name</a> - Name\n        '' (default) | character vector | string scalar\n      <a href=\"matlab:web /opt/matlab/R2024b/help/matlab/ref/figure.html#buich1u-1_sep_shared-Color\">Color</a> - Background color\n        RGB triplet | hexadecimal color code | 'r' | 'g' | 'b' | ...\n      <a href=\"matlab:web /opt/matlab/R2024b/help/matlab/ref/figure.html#buich1u-1_sep_shared-Position\">Position</a> - Location and size of drawable area\n        [left bottom width height]\n      <a href=\"matlab:web /opt/matlab/R2024b/help/matlab/ref/figure.html#buich1u-1_sep_shared-Units\">Units</a> - Units of measurement\n        'pixels' (default) | 'normalized' | 'inches' | 'centimeters' |\n        'points' | 'characters'\n\n    Examples\n      <a href=\"matlab:web /opt/matlab/R2024b/help/matlab/ref/figure.html#mw_e279e63f-1641-4b14-a781-c5facd020190\">Change Figure Size</a>\n      <a href=\"matlab:web /opt/matlab/R2024b/help/matlab/ref/figure.html#bvjs6el-1\">Specify Figure Title</a>\n      <a href=\"matlab:web /opt/matlab/R2024b/help/matlab/ref/figure.html#bvjs6ew-1\">Working with Multiple Figures Simultaneously</a>\n\n    See also <a href=\"matlab:help axes -displayBanner\">axes</a>, <a href=\"matlab:help gcf -displayBanner\">gcf</a>, <a href=\"matlab:help gca -displayBanner\">gca</a>, <a href=\"matlab:help clf -displayBanner\">clf</a>, <a href=\"matlab:help cla -displayBanner\">cla</a>, <a href=\"matlab:help shg -displayBanner\">shg</a>, <a href=\"matlab:help matlab.ui.Figure -displayBanner\">Figure</a>\n\n    Introduced in MATLAB before R2006a\n    <a href=\"matlab:doc figure\">Documentation for figure</a>\n\nYour HTML rendering engine is now set to 'textonly'.\n"
     ]
    }
   ],
   "source": [
    "%sh sudo -u matlab env MWI_BASE_URL=/ MWI_APP_PORT=8888 MWI_ENABLE_TOKEN_AUTH=False matlab-proxy-app"
   ]
  },
  {
   "cell_type": "code",
   "execution_count": 0,
   "metadata": {
    "application/vnd.databricks.v1+cell": {
     "cellMetadata": {
      "byteLimit": 2048000,
      "rowLimit": 10000
     },
     "inputWidgets": {},
     "nuid": "8029ed9d-727b-40a0-889d-ef3fac4701f9",
     "showTitle": false,
     "tableResultSettingsMap": {},
     "title": ""
    }
   },
   "outputs": [
    {
     "output_type": "display_data",
     "data": {
      "application/vnd.databricks.v1+direct_to_webterminal": {}
     },
     "metadata": {},
     "output_type": "display_data"
    },
    {
     "output_type": "stream",
     "name": "stderr",
     "output_type": "stream",
     "text": [
      "  % Total    % Received % Xferd  Average Speed   Time    Time     Time  Current\n                                 Dload  Upload   Total   Spent    Left  Speed\n\r  0     0    0     0    0     0      0      0 --:--:-- --:--:-- --:--:--     0\r  0     0    0     0    0     0      0      0 --:--:-- --:--:-- --:--:--     0\n"
     ]
    },
    {
     "output_type": "stream",
     "name": "stdout",
     "output_type": "stream",
     "text": [
      "HTTP/2 302 \r\nx-request-id: f07344b9-5841-416f-a805-5c6302b2b330\r\nlocation: https://adb-4254937818061770.10.azuredatabricks.net/driver-proxy/o/4254937818061770/0204-070829-2rkh88a3/51183/get_status\r\nvary: Accept-Encoding\r\ndate: Tue, 04 Feb 2025 07:22:13 GMT\r\nserver: databricks\r\n\r\n"
     ]
    }
   ],
   "source": [
    "%sh curl -i -H \"Accept: application/json\" https://adb-dp-4254937818061770.10.azuredatabricks.net/driver-proxy/o/4254937818061770/0204-070829-2rkh88a3/51183/get_status"
   ]
  },
  {
   "cell_type": "code",
   "execution_count": 0,
   "metadata": {
    "application/vnd.databricks.v1+cell": {
     "cellMetadata": {
      "byteLimit": 2048000,
      "rowLimit": 10000
     },
     "inputWidgets": {},
     "nuid": "faa2451d-1c9e-43fa-a550-3e7b77059e98",
     "showTitle": false,
     "tableResultSettingsMap": {},
     "title": ""
    }
   },
   "outputs": [
    {
     "output_type": "stream",
     "name": "stderr",
     "output_type": "stream",
     "text": [
      "  % Total    % Received % Xferd  Average Speed   Time    Time     Time  Current\n                                 Dload  Upload   Total   Spent    Left  Speed\n\r  0     0    0     0    0     0      0      0 --:--:-- --:--:-- --:--:--     0\r100   267  100   267    0     0   2389      0 --:--:-- --:--:-- --:--:--  2405\n"
     ]
    },
    {
     "output_type": "stream",
     "name": "stdout",
     "output_type": "stream",
     "text": [
      "{\n  \"ip\": \"172.211.230.202\",\n  \"city\": \"Amsterdam\",\n  \"region\": \"North Holland\",\n  \"country\": \"NL\",\n  \"loc\": \"52.3740,4.8897\",\n  \"org\": \"AS8075 Microsoft Corporation\",\n  \"postal\": \"1012\",\n  \"timezone\": \"Europe/Amsterdam\",\n  \"readme\": \"https://ipinfo.io/missingauth\"\n}"
     ]
    }
   ],
   "source": [
    "%sh curl ipinfo.io/json\n",
    "# %sh ip addr show"
   ]
  },
  {
   "cell_type": "code",
   "execution_count": 0,
   "metadata": {
    "application/vnd.databricks.v1+cell": {
     "cellMetadata": {
      "byteLimit": 2048000,
      "rowLimit": 10000
     },
     "inputWidgets": {},
     "nuid": "edee3658-65b0-4488-a000-cc0fb01a945e",
     "showTitle": false,
     "tableResultSettingsMap": {},
     "title": ""
    }
   },
   "outputs": [
    {
     "output_type": "stream",
     "name": "stderr",
     "output_type": "stream",
     "text": [
      "\n============================\nYour running servers are:\n============================\n\n1.  http://0.0.0.0:8888/matlab\n\n============================\nThank you.\n============================\n\n"
     ]
    }
   ],
   "source": [
    "%sh sudo -u prabhakk matlab-proxy-app-list-servers"
   ]
  },
  {
   "cell_type": "code",
   "execution_count": 0,
   "metadata": {
    "application/vnd.databricks.v1+cell": {
     "cellMetadata": {
      "byteLimit": 2048000,
      "rowLimit": 10000
     },
     "inputWidgets": {},
     "nuid": "f6d7cab7-c0aa-40f1-8cb3-449b349f02d0",
     "showTitle": false,
     "tableResultSettingsMap": {},
     "title": ""
    }
   },
   "outputs": [
    {
     "output_type": "stream",
     "name": "stderr",
     "output_type": "stream",
     "text": [
      "An error occurred while connecting to the mjs service on the host\n0305-122936-uxidpz87-10-139-64-5.\n\nThe cause of the problem is:\n\n============================================================================\n   Failed to connect. Possible reasons include:\n   \t- The mjs service is not running on the host 0305-122936-uxidpz87-10-139-64-5.\n   \t- The communication port (27352) is blocked.\n   \t- The mjs service is not using the target base port (27350).\n============================================================================\n"
     ]
    }
   ],
   "source": [
    "%sh  /opt/matlab/R2024b/toolbox/parallel/bin/nodestatus\n"
   ]
  },
  {
   "cell_type": "code",
   "execution_count": 0,
   "metadata": {
    "application/vnd.databricks.v1+cell": {
     "cellMetadata": {
      "byteLimit": 2048000,
      "rowLimit": 10000
     },
     "inputWidgets": {},
     "nuid": "f5f2062a-7d6d-4ac9-acdb-c55d3fa7c659",
     "showTitle": false,
     "tableResultSettingsMap": {},
     "title": ""
    }
   },
   "outputs": [
    {
     "output_type": "stream",
     "name": "stdout",
     "output_type": "stream",
     "text": [
      "/Workspace/Users/prabhakk@mathworks.com\n"
     ]
    }
   ],
   "source": [
    "%sh pwd"
   ]
  },
  {
   "cell_type": "code",
   "execution_count": 0,
   "metadata": {
    "application/vnd.databricks.v1+cell": {
     "cellMetadata": {},
     "inputWidgets": {},
     "nuid": "11622d5e-c77a-432f-a146-fb27e86e92fc",
     "showTitle": false,
     "tableResultSettingsMap": {},
     "title": ""
    }
   },
   "outputs": [],
   "source": [
    "%sh               "
   ]
  }
 ],
 "metadata": {
  "application/vnd.databricks.v1+notebook": {
   "computePreferences": null,
   "dashboards": [],
   "environmentMetadata": {
    "base_environment": "",
    "environment_version": "1"
   },
   "language": "python",
   "notebookMetadata": {
    "mostRecentlyExecutedCommandWithImplicitDF": {
     "commandId": 2223314267203090,
     "dataframes": [
      "_sqldf"
     ]
    },
    "pythonIndentUnit": 4
   },
   "notebookName": "QueryUsingDBTunnel",
   "widgets": {}
  },
  "language_info": {
   "name": "python"
  }
 },
 "nbformat": 4,
 "nbformat_minor": 0
}