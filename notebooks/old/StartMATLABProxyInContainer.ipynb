{
 "cells": [
  {
   "cell_type": "code",
   "execution_count": 0,
   "metadata": {
    "application/vnd.databricks.v1+cell": {
     "cellMetadata": {
      "byteLimit": 2048000,
      "rowLimit": 10000
     },
     "inputWidgets": {},
     "nuid": "7bb6e087-bfaa-4385-a651-f67d5f7c3233",
     "showTitle": false,
     "tableResultSettingsMap": {},
     "title": ""
    }
   },
   "outputs": [
    {
     "output_type": "stream",
     "name": "stdout",
     "output_type": "stream",
     "text": [
      "/usr/local/bin/matlab-proxy-app\n"
     ]
    },
    {
     "output_type": "stream",
     "name": "stderr",
     "output_type": "stream",
     "text": [
      "\n============================\nYour running servers are:\n============================\n\nNo MATLAB-PROXY Servers are currently running.\n============================\nThank you.\n============================\n\n"
     ]
    }
   ],
   "source": [
    "%sh which matlab-proxy-app && sudo -u matlab matlab-proxy-app-list-servers"
   ]
  },
  {
   "cell_type": "code",
   "execution_count": 0,
   "metadata": {
    "application/vnd.databricks.v1+cell": {
     "cellMetadata": {
      "byteLimit": 2048000,
      "rowLimit": 10000
     },
     "inputWidgets": {},
     "nuid": "0a862e17-0db6-4338-afcf-2356f3349161",
     "showTitle": false,
     "tableResultSettingsMap": {},
     "title": ""
    }
   },
   "outputs": [
    {
     "output_type": "stream",
     "name": "stderr",
     "output_type": "stream",
     "text": [
      "INFO:MATLABProxyApp:Setting no_proxy to: 0.0.0.0,localhost,127.0.0.1\nINFO:MATLABProxyApp:Envinronment variable MWI_CUSTOM_HTTP_HEADERS is set and has the value: {\"Content-Security-Policy\": \"frame-ancestors *\"}\nINFO:MATLABProxyApp:Successfully parsed HTTP headers from the environment variable MWI_CUSTOM_HTTP_HEADERS\nThe parsed HTTP headers are:\n{'Content-Security-Policy': 'frame-ancestors *'}\n\nINFO:MATLABProxyApp:Found MATLAB executable at: /usr/local/bin/matlab\nINFO:MATLABProxyApp:MATLAB root path: /opt/matlab/R2024b exists, continuing to verify its validity...\nINFO:MATLABProxyApp:Using 600 seconds as the default timeout value\nINFO:MATLABProxyApp:\n============================\nAccess MATLAB at:\nhttp://localhost:8888\n============================\n\n"
     ]
    }
   ],
   "source": [
    "%sh env MWI_CUSTOM_HTTP_HEADERS='{\"Content-Security-Policy\": \"frame-ancestors *\"}' MWI_BASE_URL=/ MWI_ENABLE_TOKEN_AUTH=False matlab-proxy-app &"
   ]
  },
  {
   "cell_type": "code",
   "execution_count": 0,
   "metadata": {
    "application/vnd.databricks.v1+cell": {
     "cellMetadata": {
      "byteLimit": 2048000,
      "rowLimit": 10000
     },
     "inputWidgets": {},
     "nuid": "ea9477e4-dcd3-419b-9b18-51cafa094148",
     "showTitle": false,
     "tableResultSettingsMap": {},
     "title": ""
    }
   },
   "outputs": [
    {
     "output_type": "stream",
     "name": "stdout",
     "output_type": "stream",
     "text": [
      "Get:1 https://repos.azul.com/zulu/deb stable InRelease [5289 B]\nGet:2 http://security.ubuntu.com/ubuntu jammy-security InRelease [129 kB]\nHit:3 http://archive.ubuntu.com/ubuntu jammy InRelease\nGet:4 http://archive.ubuntu.com/ubuntu jammy-updates InRelease [128 kB]\nGet:5 https://repos.azul.com/zulu/deb stable/main arm64 Packages [233 kB]\nGet:6 http://archive.ubuntu.com/ubuntu jammy-backports InRelease [127 kB]\nGet:7 https://repos.azul.com/zulu/deb stable/main amd64 Packages [378 kB]\nGet:8 http://security.ubuntu.com/ubuntu jammy-security/universe amd64 Packages [1229 kB]\nGet:9 http://archive.ubuntu.com/ubuntu jammy-updates/restricted amd64 Packages [3742 kB]\nGet:10 http://security.ubuntu.com/ubuntu jammy-security/multiverse amd64 Packages [45.2 kB]\nGet:11 http://security.ubuntu.com/ubuntu jammy-security/restricted amd64 Packages [3606 kB]\nGet:12 http://security.ubuntu.com/ubuntu jammy-security/main amd64 Packages [2604 kB]\nGet:13 http://archive.ubuntu.com/ubuntu jammy-updates/main amd64 Packages [2904 kB]\nGet:14 http://archive.ubuntu.com/ubuntu jammy-updates/multiverse amd64 Packages [53.3 kB]\nGet:15 http://archive.ubuntu.com/ubuntu jammy-updates/universe amd64 Packages [1521 kB]\nGet:16 http://archive.ubuntu.com/ubuntu jammy-backports/main amd64 Packages [81.4 kB]\nGet:17 http://archive.ubuntu.com/ubuntu jammy-backports/universe amd64 Packages [35.2 kB]\nFetched 16.8 MB in 3s (6536 kB/s)\nReading package lists...\n"
     ]
    },
    {
     "output_type": "stream",
     "name": "stderr",
     "output_type": "stream",
     "text": [
      "W: https://repos.azul.com/zulu/deb/dists/stable/InRelease: Key is stored in legacy trusted.gpg keyring (/etc/apt/trusted.gpg), see the DEPRECATION section in apt-key(8) for details.\n"
     ]
    },
    {
     "output_type": "stream",
     "name": "stdout",
     "output_type": "stream",
     "text": [
      "Reading package lists...\nBuilding dependency tree...\nReading state information...\nThe following NEW packages will be installed:\n  iputils-ping\n0 upgraded, 1 newly installed, 0 to remove and 59 not upgraded.\nNeed to get 42.9 kB of archives.\nAfter this operation, 116 kB of additional disk space will be used.\nGet:1 http://archive.ubuntu.com/ubuntu jammy/main amd64 iputils-ping amd64 3:20211215-1 [42.9 kB]\n"
     ]
    },
    {
     "output_type": "stream",
     "name": "stderr",
     "output_type": "stream",
     "text": [
      "debconf: delaying package configuration, since apt-utils is not installed\n"
     ]
    },
    {
     "output_type": "stream",
     "name": "stdout",
     "output_type": "stream",
     "text": [
      "Fetched 42.9 kB in 0s (120 kB/s)\nSelecting previously unselected package iputils-ping.\r\n(Reading database ... \r(Reading database ... 5%\r(Reading database ... 10%\r(Reading database ... 15%\r(Reading database ... 20%\r(Reading database ... 25%\r(Reading database ... 30%\r(Reading database ... 35%\r(Reading database ... 40%\r(Reading database ... 45%\r(Reading database ... 50%\r(Reading database ... 55%\r(Reading database ... 60%\r(Reading database ... 65%\r(Reading database ... 70%\r(Reading database ... 75%\r(Reading database ... 80%\r(Reading database ... 85%\r(Reading database ... 90%\r(Reading database ... 95%\r(Reading database ... 100%\r(Reading database ... 49482 files and directories currently installed.)\r\nPreparing to unpack .../iputils-ping_3%3a20211215-1_amd64.deb ...\r\nUnpacking iputils-ping (3:20211215-1) ...\r\nSetting up iputils-ping (3:20211215-1) ...\r\n"
     ]
    }
   ],
   "source": [
    "%%sh\n",
    "apt-get update -y\n",
    "apt-get install -y iputils-ping\n",
    "\n",
    "\n"
   ]
  },
  {
   "cell_type": "code",
   "execution_count": 0,
   "metadata": {
    "application/vnd.databricks.v1+cell": {
     "cellMetadata": {
      "byteLimit": 2048000,
      "rowLimit": 10000
     },
     "inputWidgets": {},
     "nuid": "8ff31c3c-399e-4d82-9abd-a0cef94cd72d",
     "showTitle": false,
     "tableResultSettingsMap": {},
     "title": ""
    }
   },
   "outputs": [
    {
     "output_type": "stream",
     "name": "stdout",
     "output_type": "stream",
     "text": [
      "PING 10.139.64.5 (10.139.64.5) 56(84) bytes of data.\n\n--- 10.139.64.5 ping statistics ---\n4 packets transmitted, 0 received, 100% packet loss, time 3061ms\n\n"
     ]
    }
   ],
   "source": [
    "%sh ping -c 4 10.139.64.5\n",
    "# %sh ip addr show\n",
    "\n",
    "# ping 10.139.0.4"
   ]
  },
  {
   "cell_type": "code",
   "execution_count": 0,
   "metadata": {
    "application/vnd.databricks.v1+cell": {
     "cellMetadata": {
      "byteLimit": 2048000,
      "rowLimit": 10000
     },
     "inputWidgets": {},
     "nuid": "1cf0a17a-81ca-4eab-8cdc-8e6926693f21",
     "showTitle": false,
     "tableResultSettingsMap": {},
     "title": ""
    }
   },
   "outputs": [
    {
     "output_type": "stream",
     "name": "stderr",
     "output_type": "stream",
     "text": [
      "  % Total    % Received % Xferd  Average Speed   Time    Time     Time  Current\n                                 Dload  Upload   Total   Spent    Left  Speed\n\r  0     0    0     0    0     0      0      0 --:--:-- --:--:-- --:--:--     0\r100   267  100   267    0     0   2296      0 --:--:-- --:--:-- --:--:--  2301\n"
     ]
    },
    {
     "output_type": "stream",
     "name": "stdout",
     "output_type": "stream",
     "text": [
      "{\n  \"ip\": \"172.211.230.202\",\n  \"city\": \"Amsterdam\",\n  \"region\": \"North Holland\",\n  \"country\": \"NL\",\n  \"loc\": \"52.3740,4.8897\",\n  \"org\": \"AS8075 Microsoft Corporation\",\n  \"postal\": \"1012\",\n  \"timezone\": \"Europe/Amsterdam\",\n  \"readme\": \"https://ipinfo.io/missingauth\"\n}"
     ]
    }
   ],
   "source": [
    "%sh curl ipinfo.io/json"
   ]
  },
  {
   "cell_type": "code",
   "execution_count": 0,
   "metadata": {
    "application/vnd.databricks.v1+cell": {
     "cellMetadata": {
      "byteLimit": 2048000,
      "rowLimit": 10000
     },
     "inputWidgets": {},
     "nuid": "97668f01-dd42-432a-811f-a7c66bd8ff0c",
     "showTitle": false,
     "tableResultSettingsMap": {},
     "title": ""
    }
   },
   "outputs": [
    {
     "output_type": "stream",
     "name": "stderr",
     "output_type": "stream",
     "text": [
      "INFO:MATLABProxyApp:Setting no_proxy to: 0.0.0.0,localhost,127.0.0.1\nINFO:MATLABProxyApp:Found MATLAB executable at: /usr/local/bin/matlab\nINFO:MATLABProxyApp:Using 600 seconds as the default timeout value\nINFO:MATLABProxyApp:\n============================\nAccess MATLAB at:\nhttp://localhost:54115/matlab\n============================\n\n"
     ]
    }
   ],
   "source": [
    "%sh unset MWI_APP_PORT && matlab-proxy-app &"
   ]
  },
  {
   "cell_type": "code",
   "execution_count": 0,
   "metadata": {
    "application/vnd.databricks.v1+cell": {
     "cellMetadata": {},
     "inputWidgets": {},
     "nuid": "fad612d1-2bd8-4baf-81ab-fda242c2fe0c",
     "showTitle": false,
     "tableResultSettingsMap": {},
     "title": ""
    }
   },
   "outputs": [],
   "source": []
  }
 ],
 "metadata": {
  "application/vnd.databricks.v1+notebook": {
   "computePreferences": null,
   "dashboards": [],
   "environmentMetadata": {
    "base_environment": "",
    "environment_version": "1"
   },
   "language": "python",
   "notebookMetadata": {
    "mostRecentlyExecutedCommandWithImplicitDF": {
     "commandId": 7620661537347938,
     "dataframes": [
      "_sqldf"
     ]
    },
    "pythonIndentUnit": 4
   },
   "notebookName": "StartMATLABProxyInContainer",
   "widgets": {}
  },
  "language_info": {
   "name": "python"
  }
 },
 "nbformat": 4,
 "nbformat_minor": 0
}