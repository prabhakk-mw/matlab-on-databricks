{
 "cells": [
  {
   "cell_type": "code",
   "execution_count": 0,
   "metadata": {
    "application/vnd.databricks.v1+cell": {
     "cellMetadata": {
      "byteLimit": 2048000,
      "rowLimit": 10000
     },
     "inputWidgets": {},
     "nuid": "5b267e27-c488-490b-bac0-98fef08f10f3",
     "showTitle": false,
     "tableResultSettingsMap": {},
     "title": ""
    }
   },
   "outputs": [
    {
     "output_type": "stream",
     "name": "stdout",
     "output_type": "stream",
     "text": [
      "Starting matlab-proxy-app on port 3000\n"
     ]
    },
    {
     "output_type": "display_data",
     "data": {
      "text/html": [
       "<h2 style='color:green;'>Starting matlab-proxy-app on port 3000</h2><h2 style='color:blue;'>Found 1 matlab-proxy-app processes with process ids:</h2><h3 style='color:blue;'>3241</h3>"
      ],
      "text/plain": [
       "<IPython.core.display.HTML object>"
      ]
     },
     "metadata": {},
     "output_type": "display_data"
    }
   ],
   "source": [
    "import os\n",
    "import subprocess\n",
    "import psutil\n",
    "import time\n",
    "from IPython.display import display, HTML\n",
    "\n",
    "def find_matlab_proxy_app_processes():\n",
    "    processes = []\n",
    "    for proc in psutil.process_iter(['pid', 'name', 'cmdline']):\n",
    "        for process in proc.info['cmdline']:\n",
    "            if 'matlab-proxy-app' in process:\n",
    "                processes.append(proc.info)\n",
    "    return processes\n",
    "\n",
    "def find_next_open_port(\n",
    "    *, host=\"0.0.0.0\", start_port: int = 3000, end_port: int = 9999\n",
    "):\n",
    "    import socket\n",
    "\n",
    "    for port in range(start_port, end_port + 1):\n",
    "        sock = socket.socket(socket.AF_INET, socket.SOCK_STREAM)\n",
    "        sock.settimeout(1)  # Set a timeout for the connection attempt\n",
    "        result = sock.connect_ex((host, port))\n",
    "        if result != 0:  # 0 means the port is open\n",
    "            sock.close()\n",
    "            return port\n",
    "\n",
    "    return None\n",
    "\n",
    "port = find_next_open_port()\n",
    "\n",
    "my_env = os.environ\n",
    "my_env[\"MWI_APP_PORT\"] = str(port)\n",
    "\n",
    "start_msg = f\"Starting matlab-proxy-app on port {str(port)}\"\n",
    "print(start_msg)\n",
    "r = subprocess.Popen([\"matlab-proxy-app\"], env=my_env)\n",
    "\n",
    "html_content = f\"<h2 style='color:green;'>{start_msg}</h2>\"\n",
    "\n",
    "matlab_proxy_app_processes = find_matlab_proxy_app_processes()\n",
    "html_content += f\"<h2 style='color:blue;'>Found {len(matlab_proxy_app_processes)} matlab-proxy-app processes with process ids:</h2>\"\n",
    "for mp_process in matlab_proxy_app_processes:\n",
    "    html_content += f\"<h3 style='color:blue;'>{mp_process['pid']}</h3>\"\n",
    "\n",
    "display(HTML(html_content))\n",
    "\n"
   ]
  }
 ],
 "metadata": {
  "application/vnd.databricks.v1+notebook": {
   "computePreferences": null,
   "dashboards": [],
   "environmentMetadata": {
    "base_environment": "",
    "environment_version": "2"
   },
   "language": "python",
   "notebookMetadata": {
    "pythonIndentUnit": 4
   },
   "notebookName": "Start_MATLAB",
   "widgets": {}
  },
  "language_info": {
   "name": "python"
  }
 },
 "nbformat": 4,
 "nbformat_minor": 0
}