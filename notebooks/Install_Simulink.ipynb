{
 "cells": [
  {
   "cell_type": "code",
   "execution_count": 0,
   "metadata": {
    "application/vnd.databricks.v1+cell": {
     "cellMetadata": {
      "byteLimit": 2048000,
      "rowLimit": 10000
     },
     "inputWidgets": {},
     "nuid": "7d10ab58-c976-48a2-ac1f-66f98798fc91",
     "showTitle": false,
     "tableResultSettingsMap": {},
     "title": ""
    }
   },
   "outputs": [],
   "source": [
    "%sh wget -q https://www.mathworks.com/mpm/glnxa64/mpm && chmod +x mpm"
   ]
  },
  {
   "cell_type": "code",
   "execution_count": 0,
   "metadata": {
    "application/vnd.databricks.v1+cell": {
     "cellMetadata": {
      "byteLimit": 2048000,
      "rowLimit": 10000
     },
     "inputWidgets": {},
     "nuid": "0f64f6a4-91c2-45c5-8a28-f7c27268102d",
     "showTitle": false,
     "tableResultSettingsMap": {},
     "title": ""
    }
   },
   "outputs": [
    {
     "output_type": "stream",
     "name": "stdout",
     "output_type": "stream",
     "text": [
      "Installing with the following parameters:\n--destination=/opt/matlab/R2024b\n--release=R2024b\n--products=Simulink\n---------------------------------------------\nThe following MathWorks Products are licensed under the The MathWorks, Inc. Software License\nAgreement, available in the installation of the MathWorks Product or in the virtual machine image.\nSimulink\n\nProducts will be installed to: /opt/matlab/R2024b\nStarting install\nFinished install\nCompleting setup...\nInstallation complete\n"
     ]
    }
   ],
   "source": [
    "%sh ./mpm install --release=R2024b --destination=/opt/matlab/R2024b --products=Simulink"
   ]
  },
  {
   "cell_type": "code",
   "execution_count": 0,
   "metadata": {
    "application/vnd.databricks.v1+cell": {
     "cellMetadata": {},
     "inputWidgets": {},
     "nuid": "f8d834b1-7868-4007-8970-fc0a293d0122",
     "showTitle": false,
     "tableResultSettingsMap": {},
     "title": ""
    }
   },
   "outputs": [],
   "source": []
  }
 ],
 "metadata": {
  "application/vnd.databricks.v1+notebook": {
   "computePreferences": null,
   "dashboards": [],
   "environmentMetadata": {
    "base_environment": "",
    "environment_version": "2"
   },
   "language": "python",
   "notebookMetadata": {
    "mostRecentlyExecutedCommandWithImplicitDF": {
     "commandId": 1959399917457408,
     "dataframes": [
      "_sqldf"
     ]
    },
    "pythonIndentUnit": 4
   },
   "notebookName": "Install_Simulink",
   "widgets": {}
  },
  "language_info": {
   "name": "python"
  }
 },
 "nbformat": 4,
 "nbformat_minor": 0
}